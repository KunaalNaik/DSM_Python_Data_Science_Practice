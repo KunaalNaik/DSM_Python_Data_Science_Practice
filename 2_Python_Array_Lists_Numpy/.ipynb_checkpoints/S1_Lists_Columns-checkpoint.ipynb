{
 "cells": [
  {
   "cell_type": "markdown",
   "id": "c9922e70-e571-45d0-9198-3e36944bc75e",
   "metadata": {},
   "source": [
    "# Dealing with Lists of Column Names (Solution)\n",
    "- When you work ML Models, column names would not often be clean. \n",
    "- In this exercise you will learn how deal with columns using Lists\n",
    "- The same will have to be mastered using Array's and Numpy Arrays and Pandas Series"
   ]
  },
  {
   "cell_type": "markdown",
   "id": "08f841c0-b00d-45f7-8350-d038cfa2ec25",
   "metadata": {},
   "source": [
    "### Q: How can you convert all the column names in a list to lowercase?\n",
    "- A: You can use a list comprehension and the lower() method to convert all the column names to lowercase\n",
    "- Expected Output: ['name', 'age', 'city']"
   ]
  },
  {
   "cell_type": "code",
   "execution_count": 21,
   "id": "bb89836d-5b79-4a35-8722-308f4ccc7031",
   "metadata": {},
   "outputs": [
    {
     "name": "stdout",
     "output_type": "stream",
     "text": [
      "['name', 'age', 'city']\n"
     ]
    }
   ],
   "source": [
    "columns = ['Name', 'Age', 'City']\n",
    "lowercase_columns = [col.lower() for col in columns]\n",
    "print(lowercase_columns)"
   ]
  },
  {
   "cell_type": "markdown",
   "id": "a715f687-2ff8-4a2c-99f2-52bda421039b",
   "metadata": {},
   "source": [
    "### Q: How can you replace special characters in a list of column names?\n",
    "- A: You can use a combination of the replace() method and a loop to replace the special characters\n",
    "- Expected Output: ['Name', 'Age', 'City']"
   ]
  },
  {
   "cell_type": "code",
   "execution_count": 22,
   "id": "86a94b24-9668-478c-b01f-5097da5781d6",
   "metadata": {},
   "outputs": [
    {
     "name": "stdout",
     "output_type": "stream",
     "text": [
      "['Name', 'Age', 'City']\n"
     ]
    }
   ],
   "source": [
    "columns = ['Name', 'Age!', 'City#']\n",
    "for i in range(len(columns)):\n",
    "    columns[i] = columns[i].replace('!', '').replace('#', '')\n",
    "print(columns)"
   ]
  },
  {
   "cell_type": "markdown",
   "id": "761f64af-81d6-4a42-9dbb-b679957916df",
   "metadata": {},
   "source": [
    "### Q: How can you replace blank spaces in a list of column names with underscores?\n",
    "- A: You can use the replace() method to replace the blank spaces with underscores\n",
    "- Expected Output: ['First_Name', 'Last_Name', 'Age']"
   ]
  },
  {
   "cell_type": "code",
   "execution_count": 23,
   "id": "128964f9-0c70-4a73-bc17-bec8a3b77d32",
   "metadata": {},
   "outputs": [
    {
     "name": "stdout",
     "output_type": "stream",
     "text": [
      "['First_Name', 'Last_Name', 'Age']\n"
     ]
    }
   ],
   "source": [
    "columns = ['First Name', 'Last Name', 'Age']\n",
    "for i in range(len(columns)):\n",
    "    columns[i] = columns[i].replace(' ', '_')\n",
    "print(columns)"
   ]
  },
  {
   "cell_type": "markdown",
   "id": "6af7fa0a-0a78-483c-9252-9d9f7a519e76",
   "metadata": {},
   "source": [
    "### Q: How can you add a new column name to a list of column names?\n",
    "- A: You can use the append() method to add the new column name (City) to the end of the list\n",
    "- Expected Output: ['Name', 'Age', 'City']"
   ]
  },
  {
   "cell_type": "code",
   "execution_count": 24,
   "id": "f4e22232-73e9-433d-8fec-7cb8797b5276",
   "metadata": {},
   "outputs": [
    {
     "name": "stdout",
     "output_type": "stream",
     "text": [
      "['Name', 'Age', 'City']\n"
     ]
    }
   ],
   "source": [
    "columns = ['Name', 'Age']\n",
    "columns.append('City')\n",
    "print(columns)"
   ]
  },
  {
   "cell_type": "markdown",
   "id": "881b9be3-383d-4cbb-bf71-fbbd5a844e67",
   "metadata": {},
   "source": [
    "### Q: How can you drop a column name from a list of column names?\n",
    "- A: You can use the remove() method to remove the column name from the list\n",
    "- Expected Output: ['Name', 'Age']"
   ]
  },
  {
   "cell_type": "code",
   "execution_count": 25,
   "id": "c171e22a-af30-4ddd-8544-9a6a5b992606",
   "metadata": {},
   "outputs": [
    {
     "name": "stdout",
     "output_type": "stream",
     "text": [
      "['Name', 'Age']\n"
     ]
    }
   ],
   "source": [
    "columns = ['Name', 'Age', 'City']\n",
    "columns.remove('City')\n",
    "print(columns)"
   ]
  },
  {
   "cell_type": "markdown",
   "id": "7dbb9bf5-04fc-4acf-b4bf-f025e43dde70",
   "metadata": {},
   "source": [
    "### Q: How can you combine two lists of column names?\n",
    "- A: You can use the extend() method to add the elements of one list to another list\n",
    "- Expected Output: ['Name', 'Age', 'City', 'State']"
   ]
  },
  {
   "cell_type": "code",
   "execution_count": 26,
   "id": "f3a94e04-e14b-479e-90fa-bcfff8e4cfd5",
   "metadata": {},
   "outputs": [
    {
     "name": "stdout",
     "output_type": "stream",
     "text": [
      "['Name', 'Age', 'City', 'State']\n"
     ]
    }
   ],
   "source": [
    "columns1 = ['Name', 'Age']\n",
    "columns2 = ['City', 'State']\n",
    "columns1.extend(columns2)\n",
    "print(columns1)"
   ]
  },
  {
   "cell_type": "markdown",
   "id": "89fa94cb-1dfd-4c58-8111-8231eb57c7fa",
   "metadata": {},
   "source": [
    "### Q: How can you order a list of column names alphabetically?\n",
    "- A: You can use the sorted() function to sort the list alphabetically\n",
    "- Expected Output: ['Age', 'City', 'Name']"
   ]
  },
  {
   "cell_type": "code",
   "execution_count": 27,
   "id": "39fc830b-06fa-4c62-af72-21b323279f24",
   "metadata": {},
   "outputs": [
    {
     "name": "stdout",
     "output_type": "stream",
     "text": [
      "['Age', 'City', 'Name']\n"
     ]
    }
   ],
   "source": [
    "columns = ['Name', 'Age', 'City']\n",
    "sorted_columns = sorted(columns)\n",
    "print(sorted_columns)"
   ]
  },
  {
   "cell_type": "markdown",
   "id": "7a09540b-9434-406e-97ee-ce6aa0bd5c1e",
   "metadata": {},
   "source": [
    "### Q: How can you reverse the order of a list of column names?\n",
    "- A: You can use the reverse() method to reverse the order of the list\n",
    "- Expected Output: ['City', 'Age', 'Name']"
   ]
  },
  {
   "cell_type": "code",
   "execution_count": 28,
   "id": "ea140d74-2cb2-4b0b-884a-67e5a3494679",
   "metadata": {},
   "outputs": [
    {
     "name": "stdout",
     "output_type": "stream",
     "text": [
      "['City', 'Age', 'Name']\n"
     ]
    }
   ],
   "source": [
    "columns = ['Name', 'Age', 'City']\n",
    "columns.reverse()\n",
    "print(columns)"
   ]
  },
  {
   "cell_type": "markdown",
   "id": "caf6d564-f437-4d6d-833c-921efbff3c68",
   "metadata": {},
   "source": [
    "### Q: How can you count the number of elements in a list of column names?\n",
    "- A: You can use the len() function to get the number of elements in the list\n",
    "- Expected Output: 3"
   ]
  },
  {
   "cell_type": "code",
   "execution_count": 29,
   "id": "fe1d99b4-a632-42a1-848c-318c9e145676",
   "metadata": {},
   "outputs": [
    {
     "name": "stdout",
     "output_type": "stream",
     "text": [
      "3\n"
     ]
    }
   ],
   "source": [
    "columns = ['Name', 'Age', 'City']\n",
    "count = len(columns)\n",
    "print(count)"
   ]
  },
  {
   "cell_type": "markdown",
   "id": "122d2577-58ae-430f-867e-63e95be0e7df",
   "metadata": {},
   "source": [
    "### Q: How can I trim extra space from a list of column names in Python?\n",
    "- A: You can use the strip() method to remove leading and trailing spaces from each column name in the list. \n",
    "- Expected Output: ['Name', 'Age', 'Gender']"
   ]
  },
  {
   "cell_type": "code",
   "execution_count": 30,
   "id": "91a4b115-81b0-4641-8260-b0a506c18466",
   "metadata": {},
   "outputs": [
    {
     "name": "stdout",
     "output_type": "stream",
     "text": [
      "['Name', 'Age', 'Gender']\n"
     ]
    }
   ],
   "source": [
    "# Example list of column names with extra spaces\n",
    "column_names = [\"  Name  \", \"  Age  \", \"  Gender  \"]\n",
    "\n",
    "# Remove leading and trailing spaces from each column name\n",
    "trimmed_names = [name.strip() for name in column_names]\n",
    "\n",
    "# Print the trimmed column names\n",
    "print(trimmed_names)"
   ]
  }
 ],
 "metadata": {
  "kernelspec": {
   "display_name": "Python 3 (ipykernel)",
   "language": "python",
   "name": "python3"
  },
  "language_info": {
   "codemirror_mode": {
    "name": "ipython",
    "version": 3
   },
   "file_extension": ".py",
   "mimetype": "text/x-python",
   "name": "python",
   "nbconvert_exporter": "python",
   "pygments_lexer": "ipython3",
   "version": "3.9.13"
  },
  "toc-autonumbering": true
 },
 "nbformat": 4,
 "nbformat_minor": 5
}
